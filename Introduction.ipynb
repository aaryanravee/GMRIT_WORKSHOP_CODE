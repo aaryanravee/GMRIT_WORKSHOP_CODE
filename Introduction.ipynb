{
 "cells": [
  {
   "cell_type": "markdown",
   "metadata": {},
   "source": [
    "# What is Machine Learning?\n",
    "**\"Machine Learning is a large sub-field of Artificial Intelligence that gives the computer the ability to learn without being explicitly programmed.\"** \n",
    "\n",
    "\n",
    "Here we don't explicitly program the computer which is different from other computer science fields where step by step instruction is given to solve a particular problem. So how does computer learn? The answer is from data(experience). We feed data to the Machine Learning algorithms and they learn by analyzing the data; they search for patterns in the data. To demonstrate this concept, let us consider an example of handwritten digit classification using machine learning. Here data or experience is images of digits (0-9) with labels. So, we are telling machine learning algorithm that this is an image of the digit \"0\", this is an image of the digit \"9\", this is an image of the digit \"8\" and so on. **So, if you think carefully you will realize that they are programming by themselves.**\n",
    "\n",
    "![](images/machinelearning.png)\n",
    "\n",
    "### Broadly, Machine Learning Algorithms can be classified into three types:\n",
    "\n",
    "\n",
    "#### 1. Supervised Learning\n",
    "Here dataset consists of both input and label. The algorithm predicts the label for the given input. So, the job of algorithms is to find the function that maps input to the label. Above example of handwritten digit classification is an example of Supervised Learning.\n",
    "\n",
    "![](images/supervise.png)\n",
    "\n",
    "\n",
    "                    \n",
    "                       Above image shows the classification boundary of a supervised learning algorithm.\n",
    "                       \n",
    "\n",
    "** In this workshop we will spend our most of the time in Suprevise Learning. **\n",
    "\n",
    "\n",
    "\n",
    "#### 2. Unsupervised Learning\n",
    "Here dataset does not contain label for input and the job of algorithms is to find the structure in the data. Clustering is an example of unsupervised learning.\n",
    "\n",
    "\n",
    "![](images/unsupervise.png)\n",
    "\n",
    " \n",
    "\n",
    "#### 3. Reinforcement Learning:\n",
    "Here an agent learns how to behave in an environment by performing actions and seeing the results.\n",
    "\n",
    "![](images/reinforcement.png)"
   ]
  },
  {
   "cell_type": "markdown",
   "metadata": {},
   "source": [
    "## What is Deep Learning?\n",
    "Deep learning is a subset of machine learning where deep artificial neural networks, algorithms inspired by the human brain, learn from vast amounts of data. We will see this in detail in later parts of the workshop.\n",
    "\n",
    "\n",
    "![](images/AI_vs_ML_vs_DL.jpg)"
   ]
  }
 ],
 "metadata": {
  "kernelspec": {
   "display_name": "Python 3",
   "language": "python",
   "name": "python3"
  },
  "language_info": {
   "codemirror_mode": {
    "name": "ipython",
    "version": 3
   },
   "file_extension": ".py",
   "mimetype": "text/x-python",
   "name": "python",
   "nbconvert_exporter": "python",
   "pygments_lexer": "ipython3",
   "version": "3.6.5"
  }
 },
 "nbformat": 4,
 "nbformat_minor": 2
}
