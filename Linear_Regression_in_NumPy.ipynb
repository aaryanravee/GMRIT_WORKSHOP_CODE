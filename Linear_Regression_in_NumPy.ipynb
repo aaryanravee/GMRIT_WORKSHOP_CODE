{
 "cells": [
  {
   "cell_type": "markdown",
   "metadata": {},
   "source": [
    "# Linear Regression in NumPy\n",
    "Now you already know that in supervised learning both input and output is given for tranning and job of algorithm is to find function that maps input to output. When output is real or continous value than it is called regression.Examples:\n",
    "\n",
    "* Predicting height of a person given weight.(here height is continous it can take any positive value eg 183.28cm).\n",
    "* Predicting house price given features of house.(here price is contionus it can take any positive value eg 2220.56$).\n",
    "* Predicting stock value.\n",
    "\n",
    "In linear regression, the relationships(mappings) are modeled using linear predictor functions whose unknown model parameters are estimated from the data. Such models are called linear models.So what is linear predictor function? It is a fancy name given to the function of form:\n",
    "\n",
    "![](images/Linear_predictor_function.svg)\n",
    "\n",
    "where \n",
    "* i is a datapoint(consisting of p variables)\n",
    "* beta<sub>0</sub>,beta<sub>1</sub>... are the parameter of function \n",
    "* x<sub>in</sub> is n<sup>th</sup> variable of i<sup>th</sup> data instant\n",
    "\n",
    "So in simple term f(i) returns predicted value of the dependent variable for a given input data instant. In height prediction problem weight is given as input to f and it will returns the predicted height."
   ]
  },
  {
   "cell_type": "markdown",
   "metadata": {},
   "source": [
    "### Data set\n",
    "The data set for linear regression consists of independent variable(or features) and continous dependent variable(or target). Throughout this workshop we will use convension that X will hold features and numpy array Y will hold continous target variable.\n",
    "\n",
    "Dataset are divided into three parts:\n",
    "* Traning data\n",
    "   \n",
    "   With this data, the model is trained. Traning model means estimating the unknown model parameters. In linear regression training model means estimating the values of beta<sub>0</sub>,beta<sub>1</sub>...\n",
    "   \n",
    "   \n",
    "* Validation data\n",
    "    \n",
    "    With this data, hyper-parameter of a model is tuned. Hyperparameter is a parameter whose value is set before the learning process begins. By contrast, the values of other parameters are derived via training. Don't worry much about hyper-parameter now we will see it later.\n",
    "    \n",
    "    \n",
    "* Testing data\n",
    "    \n",
    "    We use this data to assess the performance of a fully-trained model.\n",
    "    \n",
    "\n",
    "Throughout this workshop we will use name X_train and Y_train for traning data, X_val and Y_val for validation, and X_test and Y_test for testing data.\n",
    "\n",
    "**So how do we divide the X and Y into (X_train,Y_train),(X_val,Y_val), and (X_test,Y_test)?**\n",
    "\n",
    "\n",
    "There is no hard and fast rule for this. It completely depends upon the amount of data you have. General rule of thumb is to divide into 60% 20% 20%.\n",
    "\n",
    "**Why do we need both validation and test data? Why not tune hyper-parameter in test data?**\n",
    "\n",
    "The reason is, to find out the performance of model we must test its performance in compeletly unseen data. If we use same data set for both hyper-parameter tuning and testing then the data set used for testing the model is already seen by the model during hyper-parameter tuning. Because of this we cannot have clear idea about how is our model performing. "
   ]
  },
  {
   "cell_type": "markdown",
   "metadata": {},
   "source": [
    "### Traning model\n",
    "Traning model means estimating the unknown model parameters. So how do we estimate the unknown model parameters? Initially the parameters are initilized randomly. The error value on tranning data is calculated and model parameter are slighlty changed in a direction that reduces the error. The process is continued for some number of iterations until good result is obtained. The algorithm used for traning model is called optimization algoritms. \n",
    "\n",
    "###### Gradient Descent Optimization Algorithm\n",
    "Gradient descent is the most popular optimization strategy, used in machine learning and deep learning. Gradient Descent algorithm minimizes the error function or cost function by iteratively moving in the direction of steepest descent as defined by the negative of the gradient.\n",
    "\n",
    "![](images/gradient_descent.png)\n",
    "\n",
    "**Update Equation**\n",
    "![](images/gradient_descent_equation.png)\n",
    "\n",
    "Where,\n",
    "* α is learning rate\n",
    "* w is weight or parameters of model\n",
    "* Δ is gradient operator\n",
    "* J(w) is cost function\n",
    "\n",
    "\n",
    "###### Cost Function\n",
    "As name suggest cost function is a function that you want to minimize. Smaller the value of cost function better the performance of the model. One most used cost function for regression is MSE(mean squared error).\n",
    "\n",
    "\n",
    "![](images/MSE.png)\n",
    "\n",
    "\n",
    "###### Learning Rate\n",
    "Learning rate is a hyper-parameter that controls how much we are adjusting the parametes of our model with respect the cost function gradient in each iteration. High learning rate produce larger adjustment in parameters and small learning rate produce small adjustment in parameters in each iteration. Large learning rate will converge faster but it has higher risk of divergence while small learning rate converge slower and has lower risk of divergence.\n",
    "\n",
    "**How to find good learning rate?**\n",
    "\n",
    "\n",
    "The best way to find good learning rate is to try various and find out what value works the best.\n",
    "\n",
    "\n",
    "![](images/largelr_vs_smalllr.png)\n",
    "\n",
    "\n",
    "Depending upon the number of samples of tranning instance used for computing gradient of the cost function gradient descent algorithm is of three types:\n",
    "\n",
    "* Batch Gradient Descent\n",
    "    \n",
    "    Here gradient is computed using entire tranning set. If we have large dataset,then using Batch Gradient Descent can be very slow as we are only taking a single step after computing gradient from large dataset set.\n",
    "    \n",
    "\n",
    "* Stochastic Gradient Descent\n",
    "    \n",
    "    Here gradient is computed using single tranning example. As gradient is computed using only single tranning example, we will not get exact value of gradient.Because of this gradients obtained by this method is very noisy.\n",
    "    \n",
    "\n",
    "* MINI-BATCH GRADIENT DESCENT\n",
    "\n",
    "    It is compromise between Batch Gradient Descent and Stochastic Gradient Descent. Here MINI_BATCH_SIZE number of tranning example is used to compute gradient. MINI_BATCH_SIZE is a hyper-parameter and generally in practise value between 32-512 is used. \n",
    "    \n",
    "    \n",
    "![](images/Batch_vs_mini_vs_Sto.png)\n",
    "\n",
    "**Because of time constrain we will not disscuss details of gradient descent algorithm in this workshop.For detail please refer to [http://ruder.io/optimizing-gradient-descent/](http://ruder.io/optimizing-gradient-descent/)**"
   ]
  },
  {
   "cell_type": "code",
   "execution_count": 1,
   "metadata": {},
   "outputs": [
    {
     "data": {
      "text/plain": [
       "<Figure size 640x480 with 1 Axes>"
      ]
     },
     "metadata": {},
     "output_type": "display_data"
    },
    {
     "name": "stdout",
     "output_type": "stream",
     "text": [
      "Traning Size:  800\n",
      "Testing Size:  200\n"
     ]
    }
   ],
   "source": [
    "import numpy as np\n",
    "from matplotlib import pyplot as plt\n",
    "# An example of linear regression in numpy\n",
    "# Just for this example lets create our own dataset\n",
    "N=1000 #total number of data instances\n",
    "X=np.random.rand(N) #Feature \n",
    "Y=200*X-100 #Here target variable is 200 times of feature variable-100\n",
    "#Real world data is not perfect lets add some gussian noise\n",
    "Y=Y+np.random.randn(N)*20\n",
    "#Lets have a loot at our data\n",
    "plt.scatter(X,Y)\n",
    "plt.xlabel('X')\n",
    "plt.ylabel('Y')\n",
    "plt.title('Scatter plot of X vs Y')\n",
    "plt.show()\n",
    "#Lets divide the data \n",
    "#Here we do not have any hyperparameter so lets divide the data into tranning and testing with proportion 0.8 and 0.2\n",
    "X_train=X[0:int(N*0.8)]\n",
    "Y_train=Y[0:int(N*0.8)]\n",
    "X_test=X[int(N*0.8):]\n",
    "Y_test=Y[int(N*0.8):]\n",
    "print('Traning Size: ',X_train.shape[0])\n",
    "print('Testing Size: ',X_test.shape[0])"
   ]
  },
  {
   "cell_type": "code",
   "execution_count": 2,
   "metadata": {},
   "outputs": [],
   "source": [
    "class Linear_Regression:\n",
    "    def __init__(self):\n",
    "        self.W=None # parameter of model or weight of model\n",
    "    \n",
    "    #lets define mse cost function\n",
    "    @staticmethod\n",
    "    def MSE(Y,Y_pred):\n",
    "        return np.sum((Y-Y_pred)**2)/(len(Y))\n",
    "    \n",
    "    \n",
    "    def predict(self,X):\n",
    "        return X*self.W[0]+self.W[1]\n",
    "    \n",
    "    \n",
    "    #lets define gradient function for mse cost function\n",
    "    def mse_gradient(self,X,Y):\n",
    "        pred_Y=self.predict(X)\n",
    "        grad_w1=np.sum((2/len(X))*(pred_Y-Y)*(X))\n",
    "        grad_w2=np.sum((2/len(X))*(pred_Y-Y))\n",
    "        return np.array([grad_w1,grad_w2])\n",
    "    \n",
    "    #return list of mini_batches\n",
    "    @staticmethod\n",
    "    def mini_batches(X,Y,size):\n",
    "        if size>=len(X):\n",
    "            return [(X,Y)]\n",
    "        else:\n",
    "            mini_batches=[]\n",
    "            for i in range(int(len(X)/size)):\n",
    "                mini_batches.append((X[i*size:(i+1)*size],Y[i*size:(i+1)*size]))\n",
    "            if len(X)%size!=0:\n",
    "                mini_batches.append((X[(i+1)*size:],Y[(i+1)*size:]))\n",
    "            return mini_batches\n",
    "    \n",
    "    #function that trains the model\n",
    "    def train(self,X_train,Y_train,n_epoch=10,mini_batch_size=64,learning_rate=0.01):\n",
    "        self.W=np.random.randn(2)\n",
    "        for i in range(n_epoch):\n",
    "            print('Epoch number: ',i+1)\n",
    "            for X,Y in Linear_Regression.mini_batches(X_train,Y_train,mini_batch_size):\n",
    "                self.W=self.W-learning_rate*self.mse_gradient(X,Y)\n",
    "            print('Cost: ',Linear_Regression.MSE(Y_train,self.predict(X_train)))"
   ]
  },
  {
   "cell_type": "code",
   "execution_count": 3,
   "metadata": {},
   "outputs": [],
   "source": [
    "lin_r=Linear_Regression()"
   ]
  },
  {
   "cell_type": "code",
   "execution_count": 4,
   "metadata": {},
   "outputs": [
    {
     "name": "stdout",
     "output_type": "stream",
     "text": [
      "Epoch number:  1\n",
      "Cost:  3174.1302539685835\n",
      "Epoch number:  2\n",
      "Cost:  2855.129008894262\n",
      "Epoch number:  3\n",
      "Cost:  2573.795237209174\n",
      "Epoch number:  4\n",
      "Cost:  2324.7507477060262\n",
      "Epoch number:  5\n",
      "Cost:  2104.62322882164\n",
      "Epoch number:  6\n",
      "Cost:  1910.1671739115245\n",
      "Epoch number:  7\n",
      "Cost:  1738.4172523223672\n",
      "Epoch number:  8\n",
      "Cost:  1586.729256610177\n",
      "Epoch number:  9\n",
      "Cost:  1452.7618236923079\n",
      "Epoch number:  10\n",
      "Cost:  1334.4456424770556\n",
      "Epoch number:  11\n",
      "Cost:  1229.9527460274858\n",
      "Epoch number:  12\n",
      "Cost:  1137.668572586171\n",
      "Epoch number:  13\n",
      "Cost:  1056.167100855071\n",
      "Epoch number:  14\n",
      "Cost:  984.1888456168384\n",
      "Epoch number:  15\n",
      "Cost:  920.6214129978742\n",
      "Epoch number:  16\n",
      "Cost:  864.4823241005308\n",
      "Epoch number:  17\n",
      "Cost:  814.9038438623232\n",
      "Epoch number:  18\n",
      "Cost:  771.1195813849647\n",
      "Epoch number:  19\n",
      "Cost:  732.4526549666556\n",
      "Epoch number:  20\n",
      "Cost:  698.3052391459958\n",
      "Epoch number:  21\n",
      "Cost:  668.149332383107\n",
      "Epoch number:  22\n",
      "Cost:  641.5186028436881\n",
      "Epoch number:  23\n",
      "Cost:  618.0011863945923\n",
      "Epoch number:  24\n",
      "Cost:  597.2333256196519\n",
      "Epoch number:  25\n",
      "Cost:  578.8937516482117\n",
      "Epoch number:  26\n",
      "Cost:  562.698722056509\n",
      "Epoch number:  27\n",
      "Cost:  548.3976382306479\n",
      "Epoch number:  28\n",
      "Cost:  535.7691745258338\n",
      "Epoch number:  29\n",
      "Cost:  524.6178594578279\n",
      "Epoch number:  30\n",
      "Cost:  514.7710561412632\n",
      "Epoch number:  31\n",
      "Cost:  506.0762953532449\n",
      "Epoch number:  32\n",
      "Cost:  498.3989200446974\n",
      "Epoch number:  33\n",
      "Cost:  491.62000493026915\n",
      "Epoch number:  34\n",
      "Cost:  485.63451903447896\n",
      "Epoch number:  35\n",
      "Cost:  480.3497028227616\n",
      "Epoch number:  36\n",
      "Cost:  475.6836348590409\n",
      "Epoch number:  37\n",
      "Cost:  471.5639658575732\n",
      "Epoch number:  38\n",
      "Cost:  467.926800581242\n",
      "Epoch number:  39\n",
      "Cost:  464.715710321129\n",
      "Epoch number:  40\n",
      "Cost:  461.88086070829456\n",
      "Epoch number:  41\n",
      "Cost:  459.37824138938174\n",
      "Epoch number:  42\n",
      "Cost:  457.16898567040914\n",
      "Epoch number:  43\n",
      "Cost:  455.21876962221853\n",
      "Epoch number:  44\n",
      "Cost:  453.4972813679375\n",
      "Epoch number:  45\n",
      "Cost:  451.9777523564412\n",
      "Epoch number:  46\n",
      "Cost:  450.6365433828958\n",
      "Epoch number:  47\n",
      "Cost:  449.45277896278816\n",
      "Epoch number:  48\n",
      "Cost:  448.4080244124704\n",
      "Epoch number:  49\n",
      "Cost:  447.4860006486841\n",
      "Epoch number:  50\n",
      "Cost:  446.6723323019537\n"
     ]
    }
   ],
   "source": [
    "lin_r.train(X_train,Y_train,n_epoch=50,mini_batch_size=128,learning_rate=0.07)"
   ]
  },
  {
   "cell_type": "code",
   "execution_count": 5,
   "metadata": {},
   "outputs": [
    {
     "name": "stdout",
     "output_type": "stream",
     "text": [
      "MSE in test set:  385.9613990410202\n"
     ]
    },
    {
     "data": {
      "image/png": "[encoded data removed]",
      "text/plain": [
       "<Figure size 432x288 with 1 Axes>"
      ]
     },
     "metadata": {},
     "output_type": "display_data"
    }
   ],
   "source": [
    "#lets see how it did in test set\n",
    "Y_test_pre=lin_r.predict(X_test)\n",
    "print('MSE in test set: ',Linear_Regression.MSE(Y_test,Y_test_pre))\n",
    "#lets plot the graph\n",
    "plt.scatter(X_test,Y_test)\n",
    "plt.plot(X_test,Y_test_pre,color='red')\n",
    "plt.xlabel('X')\n",
    "plt.ylabel('Y')\n",
    "plt.show()"
   ]
  },
  {
   "cell_type": "code",
   "execution_count": 6,
   "metadata": {},
   "outputs": [
    {
     "data": {
      "text/plain": [
       "array([189.77182549, -94.6262307 ])"
      ]
     },
     "execution_count": 6,
     "metadata": {},
     "output_type": "execute_result"
    }
   ],
   "source": [
    "#lets see the final parameters\n",
    "lin_r.W"
   ]
  }
 ],
 "metadata": {
  "kernelspec": {
   "display_name": "Python 3",
   "language": "python",
   "name": "python3"
  },
  "language_info": {
   "codemirror_mode": {
    "name": "ipython",
    "version": 3
   },
   "file_extension": ".py",
   "mimetype": "text/x-python",
   "name": "python",
   "nbconvert_exporter": "python",
   "pygments_lexer": "ipython3",
   "version": "3.6.5"
  }
 },
 "nbformat": 4,
 "nbformat_minor": 2
}
