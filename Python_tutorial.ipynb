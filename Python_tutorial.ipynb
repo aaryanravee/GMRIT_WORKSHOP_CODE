{
 "cells": [
  {
   "cell_type": "markdown",
   "metadata": {},
   "source": [
    "# Quick python demo\n",
    "This is not a detail python tutorial. For learning Python you can find other good resources on the internet. It is just a quick demo to show you how does the syntax of python looks like so that you can follow me in this workshop even if you have not programmed in python before."
   ]
  },
  {
   "cell_type": "code",
   "execution_count": 1,
   "metadata": {},
   "outputs": [
    {
     "name": "stdout",
     "output_type": "stream",
     "text": [
      "Hello World!!!\n"
     ]
    }
   ],
   "source": [
    "#Python does not require semi-colons to terminate the statements\n",
    "#Print function\n",
    "print('Hello World!!!')"
   ]
  },
  {
   "cell_type": "code",
   "execution_count": 2,
   "metadata": {},
   "outputs": [
    {
     "name": "stdout",
     "output_type": "stream",
     "text": [
      "Total: 30\n",
      "Value of a: hello world\n"
     ]
    }
   ],
   "source": [
    "#In python you don't need to declear varibale before using you can create whenever you need.\n",
    "a=20\n",
    "b=10\n",
    "total=a+b\n",
    "print('Total:',total)\n",
    "#you can also reassign a variable to some other types\n",
    "a='hello world'\n",
    "print('Value of a:',a)"
   ]
  },
  {
   "cell_type": "code",
   "execution_count": 3,
   "metadata": {},
   "outputs": [
    {
     "name": "stdout",
     "output_type": "stream",
     "text": [
      "Give your name:CJ\n",
      "Your name is: CJ\n"
     ]
    }
   ],
   "source": [
    "#Read input\n",
    "name=input('Give your name:')\n",
    "print('Your name is:',name)"
   ]
  },
  {
   "cell_type": "code",
   "execution_count": 4,
   "metadata": {},
   "outputs": [
    {
     "name": "stdout",
     "output_type": "stream",
     "text": [
      "Give first number:10\n",
      "Give second number:20\n",
      "Total: 30\n"
     ]
    }
   ],
   "source": [
    "#input function returns string if you want other type you need to convert it\n",
    "a=int(input('Give first number:'))\n",
    "b=int(input('Give second number:'))\n",
    "print('Total:',a+b)"
   ]
  },
  {
   "cell_type": "code",
   "execution_count": 5,
   "metadata": {},
   "outputs": [
    {
     "name": "stdout",
     "output_type": "stream",
     "text": [
      "This is my 'string'.\n",
      "This is my \"string\".\n",
      "Ths is \n",
      "my \n",
      "\"string\".\n"
     ]
    }
   ],
   "source": [
    "#For string you can use double quote(\"Hello World\") or single quote('Hello World')\n",
    "#Double quote can include single quote and vise-versa\n",
    "my_string=\"This is my 'string'.\"\n",
    "print(my_string)\n",
    "my_string='This is my \"string\".'\n",
    "print(my_string)\n",
    "#You can even use triple quote. It can contain line brake as well.\n",
    "my_string='''Ths is \n",
    "my \n",
    "\"string\".'''\n",
    "print(my_string)"
   ]
  },
  {
   "cell_type": "code",
   "execution_count": 6,
   "metadata": {},
   "outputs": [
    {
     "name": "stdout",
     "output_type": "stream",
     "text": [
      "Empty list: []\n"
     ]
    }
   ],
   "source": [
    "#List in python:Python list is a ordered collection of items.Item can be any data type(even list itself) \n",
    "#Initilization\n",
    "my_list=[] # or list()\n",
    "print(\"Empty list:\",my_list)"
   ]
  },
  {
   "cell_type": "code",
   "execution_count": 7,
   "metadata": {},
   "outputs": [
    {
     "name": "stdout",
     "output_type": "stream",
     "text": [
      "After first append: ['First item']\n"
     ]
    }
   ],
   "source": [
    "#You can append using append method() \n",
    "my_list.append('First item')\n",
    "print('After first append:',my_list)"
   ]
  },
  {
   "cell_type": "code",
   "execution_count": 8,
   "metadata": {},
   "outputs": [
    {
     "name": "stdout",
     "output_type": "stream",
     "text": [
      "Final list: ['First item', [1, 2, 3], 10, 20]\n"
     ]
    }
   ],
   "source": [
    "#lets do some append\n",
    "my_list.append([1,2,3])\n",
    "my_list.append(10)\n",
    "my_list.append(20)\n",
    "print('Final list:',my_list)"
   ]
  },
  {
   "cell_type": "code",
   "execution_count": 9,
   "metadata": {},
   "outputs": [
    {
     "name": "stdout",
     "output_type": "stream",
     "text": [
      "First item: First item \n",
      "Last item: 20\n"
     ]
    }
   ],
   "source": [
    "#you can access items by index\n",
    "print('First item:',my_list[0],'\\nLast item:',my_list[-1]) #index -1 gives last item"
   ]
  },
  {
   "cell_type": "code",
   "execution_count": 10,
   "metadata": {},
   "outputs": [
    {
     "name": "stdout",
     "output_type": "stream",
     "text": [
      "['First item', [1, 2, 3], 10, 'haha', 20]\n"
     ]
    }
   ],
   "source": [
    "#you can insert at any position using insert() method\n",
    "my_list.insert(3,'haha')# first parameter is index where you want to insert\n",
    "print(my_list)"
   ]
  },
  {
   "cell_type": "code",
   "execution_count": 11,
   "metadata": {},
   "outputs": [
    {
     "name": "stdout",
     "output_type": "stream",
     "text": [
      "Last item: 20\n",
      "['First item', [1, 2, 3], 10, 'haha']\n"
     ]
    }
   ],
   "source": [
    "#you can remove item from last using pop() method\n",
    "print('Last item:',my_list.pop())\n",
    "print(my_list)"
   ]
  },
  {
   "cell_type": "code",
   "execution_count": 12,
   "metadata": {},
   "outputs": [
    {
     "name": "stdout",
     "output_type": "stream",
     "text": [
      "['First item', 10, 'haha']\n"
     ]
    }
   ],
   "source": [
    "#you can remove any item by using del function\n",
    "del(my_list[1])\n",
    "print(my_list)"
   ]
  },
  {
   "cell_type": "code",
   "execution_count": 13,
   "metadata": {},
   "outputs": [
    {
     "name": "stdout",
     "output_type": "stream",
     "text": [
      "First there items ['First item', 10, 'haha']\n"
     ]
    }
   ],
   "source": [
    "#you can slice the list\n",
    "print('First there items',my_list[0:3]) #first index is include last index in excluded"
   ]
  },
  {
   "cell_type": "code",
   "execution_count": 14,
   "metadata": {},
   "outputs": [
    {
     "name": "stdout",
     "output_type": "stream",
     "text": [
      "['First item', 10, 'haha', [20, 30], 'hello world']\n"
     ]
    }
   ],
   "source": [
    "#concatenation of list\n",
    "final_list=my_list+[[20,30],'hello world']\n",
    "print(final_list)"
   ]
  },
  {
   "cell_type": "code",
   "execution_count": 15,
   "metadata": {},
   "outputs": [
    {
     "name": "stdout",
     "output_type": "stream",
     "text": [
      "(10, 20, 30)\n"
     ]
    }
   ],
   "source": [
    "#tuple:They are very similar to list except they are immutable\n",
    "#immutable:cannot be modified once created eg tuple,string,int etc\n",
    "#mutable: can be modified eg list,dictionary,set etc\n",
    "#if you write my_int=10 and then later my_int=20 than value 10 is not modified to 20 rather my_int\n",
    "#now points to 20 because int is immutable \n",
    "#if you need collection of items that you do not need to modify then use tuple as they are faster than list.\n",
    "my_tuple=(10,20,30) # you can use my_tuple=tuple(my_list) to get tuple equivalent of my_list\n",
    "print(my_tuple)\n",
    "#my_tuple[0]=40 not allowed as they are immutable\n",
    "#my_tuple.append(40) not allowed as they are immutable\n",
    "#..."
   ]
  },
  {
   "cell_type": "code",
   "execution_count": 16,
   "metadata": {},
   "outputs": [
    {
     "name": "stdout",
     "output_type": "stream",
     "text": [
      "Empty dictionary: {}\n"
     ]
    }
   ],
   "source": [
    "#Dictionary in python: Dictionary is python associative array\n",
    "#initilization\n",
    "my_dict={} # or my_dict=dict()\n",
    "print('Empty dictionary:',my_dict)"
   ]
  },
  {
   "cell_type": "code",
   "execution_count": 17,
   "metadata": {},
   "outputs": [
    {
     "name": "stdout",
     "output_type": "stream",
     "text": [
      "{'my_list': ['First item', 10, 'haha'], 10: ('First item', 20, 30.05)}\n"
     ]
    }
   ],
   "source": [
    "#adding item into dictionary \n",
    "#my_dict[key]=value where key need to be immutable; value can be any datatype(dictionary itself)\n",
    "my_dict['my_list']=my_list \n",
    "my_dict[10]=('First item',20,30.05)\n",
    "print(my_dict)"
   ]
  },
  {
   "cell_type": "code",
   "execution_count": 18,
   "metadata": {},
   "outputs": [
    {
     "name": "stdout",
     "output_type": "stream",
     "text": [
      "('First item', 20, 30.05)\n",
      "Item with key 15 not found.\n"
     ]
    }
   ],
   "source": [
    "#Retriving value from dictionary\n",
    "item=my_dict[10]\n",
    "print(item)\n",
    "#if key is not there then my_dict[key] will rise exception to prevent we can use get() method\n",
    "item=my_dict.get(15,None) #first parameter is key second is default value (None is python data type representing null)\n",
    "if item==None:\n",
    "    print('Item with key 15 not found.')\n",
    "else:\n",
    "    print('Item:',item)"
   ]
  },
  {
   "cell_type": "code",
   "execution_count": 19,
   "metadata": {},
   "outputs": [
    {
     "name": "stdout",
     "output_type": "stream",
     "text": [
      "Hello world\n",
      "Not part of loop\n"
     ]
    }
   ],
   "source": [
    "#for loop in python\n",
    "#you have to indent to group the statements\n",
    "#looping over string\n",
    "for char in 'Hello world':\n",
    "    print(char,end='')#part of loop\n",
    "    #other statements\n",
    "    #...\n",
    "print('\\nNot part of loop')#out of loop"
   ]
  },
  {
   "cell_type": "code",
   "execution_count": 20,
   "metadata": {},
   "outputs": [
    {
     "name": "stdout",
     "output_type": "stream",
     "text": [
      "First item\n",
      "10\n",
      "haha\n"
     ]
    }
   ],
   "source": [
    "#Looping over list\n",
    "for item in my_list:\n",
    "    print(item)"
   ]
  },
  {
   "cell_type": "code",
   "execution_count": 21,
   "metadata": {},
   "outputs": [
    {
     "name": "stdout",
     "output_type": "stream",
     "text": [
      "10\n",
      "20\n",
      "haha\n"
     ]
    }
   ],
   "source": [
    "#Looping over tuple\n",
    "for item in (10,20,'haha'):\n",
    "    print(item)"
   ]
  },
  {
   "cell_type": "code",
   "execution_count": 22,
   "metadata": {},
   "outputs": [
    {
     "name": "stdout",
     "output_type": "stream",
     "text": [
      "Key: my_list Value: ['First item', 10, 'haha']\n",
      "Key: 10 Value: ('First item', 20, 30.05)\n"
     ]
    }
   ],
   "source": [
    "#Loopoing over dictionary\n",
    "for key in my_dict:\n",
    "    print('Key:',key,'Value:',my_dict[key])"
   ]
  },
  {
   "cell_type": "code",
   "execution_count": 23,
   "metadata": {},
   "outputs": [
    {
     "name": "stdout",
     "output_type": "stream",
     "text": [
      "Sum: 45\n",
      "Sum: 45\n",
      "Even number upto 9:\n",
      "0 2 4 6 8 "
     ]
    }
   ],
   "source": [
    "#Range Function return iterable object\n",
    "Sum=0\n",
    "for i in range(0,10): # 0 to 9\n",
    "    Sum+=i\n",
    "print('Sum:',Sum)\n",
    "# or equivalent\n",
    "Sum=0\n",
    "for i in range(10): # 0 to 9\n",
    "    Sum+=i\n",
    "print('Sum:',Sum)\n",
    "#Range with different step\n",
    "print('Even number upto 9:')\n",
    "for i in range(0,10,2): #0 to 9 at step of 2\n",
    "    print(i,end=' ')"
   ]
  },
  {
   "cell_type": "code",
   "execution_count": 24,
   "metadata": {},
   "outputs": [
    {
     "name": "stdout",
     "output_type": "stream",
     "text": [
      "0 1 2 3 4 5 6 7 8 9 "
     ]
    }
   ],
   "source": [
    "#while loop\n",
    "i=0\n",
    "while(i<10):\n",
    "    print(i,end=' ')\n",
    "    i+=1"
   ]
  },
  {
   "cell_type": "code",
   "execution_count": 25,
   "metadata": {},
   "outputs": [
    {
     "name": "stdout",
     "output_type": "stream",
     "text": [
      "i is less than 20\n"
     ]
    }
   ],
   "source": [
    "#if statement\n",
    "i=10\n",
    "if i<20:\n",
    "    print('i is less than 20')\n",
    "    #other statements\n",
    "    #..."
   ]
  },
  {
   "cell_type": "code",
   "execution_count": 26,
   "metadata": {},
   "outputs": [
    {
     "name": "stdout",
     "output_type": "stream",
     "text": [
      "i is not greater than 50\n"
     ]
    }
   ],
   "source": [
    "#if else statement\n",
    "if i>50:\n",
    "    print('i is greater than 50')\n",
    "    #other statements\n",
    "    #...\n",
    "else:\n",
    "    print('i is not greater than 50')\n",
    "    #other statements\n",
    "    #..."
   ]
  },
  {
   "cell_type": "code",
   "execution_count": 27,
   "metadata": {},
   "outputs": [
    {
     "name": "stdout",
     "output_type": "stream",
     "text": [
      "i is less than 30\n"
     ]
    }
   ],
   "source": [
    "#if elif statement\n",
    "if i>50:\n",
    "    print('i is greater than 50')\n",
    "elif i>40:\n",
    "    print('i is in (40,50]')\n",
    "elif i>30:\n",
    "    print('i is in (30,40]')\n",
    "else:\n",
    "    print('i is less than 30')"
   ]
  },
  {
   "cell_type": "code",
   "execution_count": 28,
   "metadata": {},
   "outputs": [],
   "source": [
    "#function in python\n",
    "def Sum(a,b):\n",
    "    #you don't need to declear type of input parameter they can have any type\n",
    "    #this function will work fine for all input type supporing addition(+) operation eg int,float,string,list,tuple etc\n",
    "    # a and b can also be of different type if they support addition(+) between type eg int and float\n",
    "    return a+b"
   ]
  },
  {
   "cell_type": "code",
   "execution_count": 29,
   "metadata": {},
   "outputs": [
    {
     "data": {
      "text/plain": [
       "30"
      ]
     },
     "execution_count": 29,
     "metadata": {},
     "output_type": "execute_result"
    }
   ],
   "source": [
    "Sum(10,20)"
   ]
  },
  {
   "cell_type": "code",
   "execution_count": 30,
   "metadata": {},
   "outputs": [
    {
     "data": {
      "text/plain": [
       "'FirstSecond'"
      ]
     },
     "execution_count": 30,
     "metadata": {},
     "output_type": "execute_result"
    }
   ],
   "source": [
    "Sum('First','Second')"
   ]
  },
  {
   "cell_type": "code",
   "execution_count": 31,
   "metadata": {},
   "outputs": [
    {
     "data": {
      "text/plain": [
       "[1, 2, 3, 54, 100, 'haha']"
      ]
     },
     "execution_count": 31,
     "metadata": {},
     "output_type": "execute_result"
    }
   ],
   "source": [
    "Sum([1,2,3],[54,100,'haha'])"
   ]
  },
  {
   "cell_type": "code",
   "execution_count": 32,
   "metadata": {},
   "outputs": [
    {
     "data": {
      "text/plain": [
       "(1, 50, 24, -99, 100.25, 3)"
      ]
     },
     "execution_count": 32,
     "metadata": {},
     "output_type": "execute_result"
    }
   ],
   "source": [
    "Sum((1,50,24),(-99,100.25,3))"
   ]
  },
  {
   "cell_type": "code",
   "execution_count": 33,
   "metadata": {},
   "outputs": [],
   "source": [
    "#factoiral example\n",
    "def factorial(x):\n",
    "    if x==1 or x==0:\n",
    "        return 1\n",
    "    else:\n",
    "        return x*factorial(x-1)"
   ]
  },
  {
   "cell_type": "code",
   "execution_count": 34,
   "metadata": {},
   "outputs": [
    {
     "data": {
      "text/plain": [
       "120"
      ]
     },
     "execution_count": 34,
     "metadata": {},
     "output_type": "execute_result"
    }
   ],
   "source": [
    "factorial(5)"
   ]
  },
  {
   "cell_type": "code",
   "execution_count": 35,
   "metadata": {},
   "outputs": [],
   "source": [
    "#Example of class in python\n",
    "class Student:\n",
    "    #Constructor in python\n",
    "    def __init__(self):\n",
    "        self.roll_no=None\n",
    "        self.name=None\n",
    "        self.cgpa=None\n",
    "        \n",
    "    #Method in python\n",
    "    def set_name(self,name): #self is object calling method\n",
    "        self.name=name\n",
    "    \n",
    "    def get_name(self):\n",
    "        return self.name\n",
    "    \n",
    "    def set_roll_no(self,roll_no):\n",
    "        self.roll_no=roll_no\n",
    "        \n",
    "    def get_roll_no(self):\n",
    "        return self.roll_no\n",
    "    \n",
    "    def set_cgpa(self,cgpa):\n",
    "        self.cgpa=cgpa\n",
    "        \n",
    "    def get_cgpa(self):\n",
    "        return self.cgpa\n",
    "    \n",
    "    #static method in python\n",
    "    @staticmethod\n",
    "    def get_performance_util(cgpa):\n",
    "        if cgpa>=8:\n",
    "            return \"brilliant\"\n",
    "        elif cgpa>=6:\n",
    "            return \"OK\"\n",
    "        else:\n",
    "            return \"Poor\"\n",
    "        \n",
    "    def get_performance(self):\n",
    "        return Student.get_performance_util(self.cgpa)\n",
    "    \n",
    "    def get_details(self):\n",
    "        print('Name: ',self.name)\n",
    "        print('Roll_no: ',self.roll_no)\n",
    "        print('CGPA: ',self.cgpa)"
   ]
  },
  {
   "cell_type": "code",
   "execution_count": 36,
   "metadata": {},
   "outputs": [],
   "source": [
    "S1=Student()"
   ]
  },
  {
   "cell_type": "code",
   "execution_count": 37,
   "metadata": {},
   "outputs": [],
   "source": [
    "S1.set_name('CJ')\n",
    "S1.set_roll_no(1)\n",
    "S1.set_cgpa(8.5)"
   ]
  },
  {
   "cell_type": "code",
   "execution_count": 38,
   "metadata": {},
   "outputs": [
    {
     "data": {
      "text/plain": [
       "'brilliant'"
      ]
     },
     "execution_count": 38,
     "metadata": {},
     "output_type": "execute_result"
    }
   ],
   "source": [
    "S1.get_performance()"
   ]
  }
 ],
 "metadata": {
  "kernelspec": {
   "display_name": "Python 3",
   "language": "python",
   "name": "python3"
  },
  "language_info": {
   "codemirror_mode": {
    "name": "ipython",
    "version": 3
   },
   "file_extension": ".py",
   "mimetype": "text/x-python",
   "name": "python",
   "nbconvert_exporter": "python",
   "pygments_lexer": "ipython3",
   "version": "3.6.5"
  }
 },
 "nbformat": 4,
 "nbformat_minor": 2
}
