{
 "cells": [
  {
   "cell_type": "markdown",
   "metadata": {},
   "source": [
    "# What is NumPy?\n",
    "Numpy is a python scientific computing libary that provides high-performance multidimensional array object, and tools for working with these arrays."
   ]
  },
  {
   "cell_type": "code",
   "execution_count": 1,
   "metadata": {},
   "outputs": [],
   "source": [
    "#Importing numpy\n",
    "import numpy as np"
   ]
  },
  {
   "cell_type": "code",
   "execution_count": 2,
   "metadata": {},
   "outputs": [
    {
     "name": "stdout",
     "output_type": "stream",
     "text": [
      "[10 20 30]\n"
     ]
    }
   ],
   "source": [
    "#Creating numpy array\n",
    "my_numpy_array=np.array([10,20,30])\n",
    "print(my_numpy_array)\n",
    "#There are various efficient and convinent ways for creating numpy array we will see all these things later"
   ]
  },
  {
   "cell_type": "markdown",
   "metadata": {},
   "source": [
    "# NumPy vs Python List\n",
    "So, you may think we already have datastructure(list) to store multidimensional array,why do we need NumPy?\n",
    "Well, the reason is computation speed and memory usuage. NumPy’s main object is the homogeneous(usually numbers) multidimensional array but Python’s lists are general-purpose containers which supports heterogenous items and offers various operations like insertion, deletion, appending, and concatenation etc and all these features comes with the cost of high memory and computation usage. And another very important thing is Numpy support vectorization but python list does not. We will see later what is vectorization."
   ]
  },
  {
   "cell_type": "code",
   "execution_count": 3,
   "metadata": {},
   "outputs": [
    {
     "name": "stdout",
     "output_type": "stream",
     "text": [
      "List memory consumption: 165.281104 MB\n",
      "Numpy memory consumption: 16.000096 MB\n"
     ]
    }
   ],
   "source": [
    "#Lets see the memory difference\n",
    "import sys\n",
    "my_list=[0 for i in range(20000000)] \n",
    "my_numpy_array=np.zeros(2000000) \n",
    "print(\"List memory consumption:\",sys.getsizeof(my_list)/1000000,'MB')\n",
    "print(\"Numpy memory consumption:\",sys.getsizeof(my_numpy_array)/1000000,'MB')"
   ]
  },
  {
   "cell_type": "code",
   "execution_count": 4,
   "metadata": {},
   "outputs": [
    {
     "name": "stdout",
     "output_type": "stream",
     "text": [
      "Time taken by python list to sum two vectors: 6.0249621868133545s\n",
      "Time taken by numpy to sum two vectors: 0.1078028678894043s\n"
     ]
    }
   ],
   "source": [
    "#Lets see the speed difference\n",
    "import time\n",
    "first_list=list(range(20000000))\n",
    "second_list=list(range(20000000))\n",
    "start=time.time()\n",
    "final_list=[first_list[i]+second_list[i] for i in range(len(first_list))]\n",
    "end=time.time()\n",
    "print(\"Time taken by python list to sum two vectors: \",end-start,'s',sep='')\n",
    "first_numpy_array=np.array(range(20000000))\n",
    "second_numpy_array=np.array(range(20000000))\n",
    "start=time.time()\n",
    "# '+' does elementwise addition this is an example of vectorization we will see this in detail later\n",
    "final_numpy_array=first_numpy_array+second_numpy_array \n",
    "end=time.time()\n",
    "print(\"Time taken by numpy to sum two vectors: \",end-start,'s',sep='')"
   ]
  },
  {
   "cell_type": "markdown",
   "metadata": {},
   "source": [
    "# What is Vectorization?\n",
    "Vectorization is an ability to express operations as occurring on entire arrays rather than their individual elements.\n",
    "It is practice of replacing explicit loops with array expressions. In general, vectorized array operations will often be one or two (or more) orders of magnitude faster than their pure Python equivalents, with the biggest impact seen in numerical computations. When looping over an array or any data structure in Python, there’s a lot of overhead involved. Vectorized operations in NumPy delegate the looping internally to highly optimized C and Fortran functions, making for cleaner and faster Python code."
   ]
  },
  {
   "cell_type": "code",
   "execution_count": 5,
   "metadata": {},
   "outputs": [
    {
     "name": "stdout",
     "output_type": "stream",
     "text": [
      "Time taken by vectorized code: 0.01560354232788086s\n",
      "Time taken by non-vectorized code: 24.189085483551025s\n"
     ]
    }
   ],
   "source": [
    "#Lets see the speed difference between vectorized code and non-vectorized code\n",
    "#Finding sum of squares of numbers of array\n",
    "my_numpy_array=np.random.rand(20000000)#Return a vector of numbers chosen uniformly randomly from [0,1)\n",
    "#vectorized code\n",
    "start=time.time()\n",
    "#Remember dot product of two same vector return sum of squares of numbers of vector\n",
    "#or you can also do total=np.linalg.norm(my_numpy_array)**2 \n",
    "total=np.dot(my_numpy_array,my_numpy_array)\n",
    "end=time.time()\n",
    "print('Time taken by vectorized code: ',end-start,'s',sep='')\n",
    "#non-vectorized code\n",
    "total=0\n",
    "start=time.time()\n",
    "for i in range(len(my_numpy_array)):\n",
    "    total+=my_numpy_array[i]**2\n",
    "end=time.time()\n",
    "print('Time taken by non-vectorized code: ',end-start,'s',sep='')"
   ]
  },
  {
   "cell_type": "code",
   "execution_count": 6,
   "metadata": {},
   "outputs": [
    {
     "name": "stdout",
     "output_type": "stream",
     "text": [
      "Time taken by vectorized code: 0.09861969947814941s\n",
      "Time taken by non-vectorized code: 12.780759811401367s\n"
     ]
    }
   ],
   "source": [
    "#Adding scaler to vector\n",
    "my_numpy_array=np.array(range(20000000))\n",
    "#vectorized code\n",
    "start=time.time()\n",
    "final_numpy_array=my_numpy_array+15\n",
    "end=time.time()\n",
    "print('Time taken by vectorized code: ',end-start,'s',sep='')\n",
    "#non-vectorized code\n",
    "my_numpy_array=np.array(range(20000000))\n",
    "start=time.time()\n",
    "for i in range(len(my_numpy_array)):\n",
    "    my_numpy_array[i]+=15\n",
    "end=time.time()\n",
    "print('Time taken by non-vectorized code: ',end-start,'s',sep='')"
   ]
  },
  {
   "cell_type": "markdown",
   "metadata": {},
   "source": [
    "# Basic Numpy"
   ]
  },
  {
   "cell_type": "code",
   "execution_count": 7,
   "metadata": {},
   "outputs": [
    {
     "name": "stdout",
     "output_type": "stream",
     "text": [
      "<class 'numpy.ndarray'>\n"
     ]
    }
   ],
   "source": [
    "#NumPy’s array class is called ndarray.\n",
    "my_numpy_array=np.array([1,2,3])\n",
    "print(type(my_numpy_array))"
   ]
  },
  {
   "cell_type": "markdown",
   "metadata": {},
   "source": [
    "### Attributes of ndarray"
   ]
  },
  {
   "cell_type": "code",
   "execution_count": 8,
   "metadata": {},
   "outputs": [
    {
     "name": "stdout",
     "output_type": "stream",
     "text": [
      "[[0.12954976 0.20200795 0.74385929]\n",
      " [0.99828691 0.94380366 0.32363152]\n",
      " [0.95671806 0.56907706 0.62578758]]\n",
      "\n",
      "Shape: (3, 3)\n",
      "Number of dimenstion: 2\n",
      "Total number of elements: 9\n",
      "Type of element in array: float64\n",
      "Size of each element in array: 8 Bytes\n"
     ]
    }
   ],
   "source": [
    "#Lets see some attributes of ndarray\n",
    "my_numpy_array=np.random.rand(3,3)\n",
    "print(my_numpy_array)\n",
    "print('\\nShape:',my_numpy_array.shape)\n",
    "print('Number of dimenstion:',my_numpy_array.ndim)\n",
    "print('Total number of elements:',my_numpy_array.size)\n",
    "print('Type of element in array:',my_numpy_array.dtype)\n",
    "print('Size of each element in array:',my_numpy_array.itemsize,'Bytes')"
   ]
  },
  {
   "cell_type": "markdown",
   "metadata": {},
   "source": [
    "### Array Creation"
   ]
  },
  {
   "cell_type": "code",
   "execution_count": 9,
   "metadata": {},
   "outputs": [
    {
     "name": "stdout",
     "output_type": "stream",
     "text": [
      "[1 2 3]\n"
     ]
    }
   ],
   "source": [
    "#creating from list\n",
    "my_list=[1,2,3]\n",
    "my_numpy_array=np.array(my_list)# or my_numpy_array=np.array([1,2,3])\n",
    "print(my_numpy_array)"
   ]
  },
  {
   "cell_type": "code",
   "execution_count": 10,
   "metadata": {},
   "outputs": [
    {
     "name": "stdout",
     "output_type": "stream",
     "text": [
      "[[1. 2. 3.]\n",
      " [4. 5. 6.]\n",
      " [7. 8. 9.]]\n",
      "\n",
      " Datatype: float64\n"
     ]
    }
   ],
   "source": [
    "#Creating 2 dimension array\n",
    "my_numpy_array=np.array([[1,2,3],[4,5,6],[7,8,9]],dtype='float64')#Sepcifing data type on creation\n",
    "print(my_numpy_array)\n",
    "print('\\n Datatype:',my_numpy_array.dtype)"
   ]
  },
  {
   "cell_type": "code",
   "execution_count": 11,
   "metadata": {},
   "outputs": [
    {
     "name": "stdout",
     "output_type": "stream",
     "text": [
      "[[[0. 0. 0.]\n",
      "  [0. 0. 0.]\n",
      "  [0. 0. 0.]]\n",
      "\n",
      " [[0. 0. 0.]\n",
      "  [0. 0. 0.]\n",
      "  [0. 0. 0.]]\n",
      "\n",
      " [[0. 0. 0.]\n",
      "  [0. 0. 0.]\n",
      "  [0. 0. 0.]]]\n"
     ]
    }
   ],
   "source": [
    "#creating array with all zerso\n",
    "my_numpy_array=np.zeros((3,3,3)) #Three dimension array of size 3*3*3\n",
    "print(my_numpy_array)"
   ]
  },
  {
   "cell_type": "code",
   "execution_count": 12,
   "metadata": {},
   "outputs": [
    {
     "name": "stdout",
     "output_type": "stream",
     "text": [
      "[[[1. 1. 1.]\n",
      "  [1. 1. 1.]\n",
      "  [1. 1. 1.]]\n",
      "\n",
      " [[1. 1. 1.]\n",
      "  [1. 1. 1.]\n",
      "  [1. 1. 1.]]\n",
      "\n",
      " [[1. 1. 1.]\n",
      "  [1. 1. 1.]\n",
      "  [1. 1. 1.]]]\n"
     ]
    }
   ],
   "source": [
    "#creating array with all ones\n",
    "my_numpy_array=np.ones((3,3,3)) #Three dimension array of size 3*3*3\n",
    "print(my_numpy_array)"
   ]
  },
  {
   "cell_type": "code",
   "execution_count": 13,
   "metadata": {},
   "outputs": [
    {
     "name": "stdout",
     "output_type": "stream",
     "text": [
      "[[[5. 5. 5.]\n",
      "  [5. 5. 5.]\n",
      "  [5. 5. 5.]]\n",
      "\n",
      " [[5. 5. 5.]\n",
      "  [5. 5. 5.]\n",
      "  [5. 5. 5.]]\n",
      "\n",
      " [[5. 5. 5.]\n",
      "  [5. 5. 5.]\n",
      "  [5. 5. 5.]]]\n"
     ]
    }
   ],
   "source": [
    "#creating array with all five\n",
    "my_numpy_array=np.ones((3,3,3))*5 #Three dimension array of size 3*3*3\n",
    "print(my_numpy_array)"
   ]
  },
  {
   "cell_type": "code",
   "execution_count": 14,
   "metadata": {},
   "outputs": [
    {
     "name": "stdout",
     "output_type": "stream",
     "text": [
      "[[9.31264501e-312 6.52020697e+252]\n",
      " [1.12038868e+219 2.31881454e-152]]\n"
     ]
    }
   ],
   "source": [
    "#creating uninitilized array(if you need uninitilized array then this apporach will be faster than np.zeros and np.ones)\n",
    "my_numpy_array=np.empty((2,2))\n",
    "print(my_numpy_array)"
   ]
  },
  {
   "cell_type": "code",
   "execution_count": 15,
   "metadata": {},
   "outputs": [
    {
     "name": "stdout",
     "output_type": "stream",
     "text": [
      "[[-0.0816964   0.96652373  0.83321813]\n",
      " [-1.55198112  0.48245812 -1.23229087]\n",
      " [-0.18656395 -0.30993326 -0.56221336]]\n"
     ]
    }
   ],
   "source": [
    "#creating random matrix\n",
    "# it samples from the “standard normal” distribution.\n",
    "my_numpy_array=np.random.randn(3,3)#Here notice instead of single tuple individual size are passed seperatly\n",
    "print(my_numpy_array)"
   ]
  },
  {
   "cell_type": "code",
   "execution_count": 16,
   "metadata": {},
   "outputs": [
    {
     "name": "stdout",
     "output_type": "stream",
     "text": [
      "[[0.10658688 0.09987778 0.74388485]\n",
      " [0.24058399 0.63813776 0.18859228]\n",
      " [0.84414429 0.34878291 0.58766002]]\n"
     ]
    }
   ],
   "source": [
    "# it samples from uniform distribution over [0, 1).\n",
    "my_numpy_array=np.random.rand(3,3)\n",
    "print(my_numpy_array)"
   ]
  },
  {
   "cell_type": "markdown",
   "metadata": {},
   "source": [
    "### Basic Operations"
   ]
  },
  {
   "cell_type": "code",
   "execution_count": 17,
   "metadata": {},
   "outputs": [
    {
     "name": "stdout",
     "output_type": "stream",
     "text": [
      "First array:\n",
      " [[ 0  1  2  3]\n",
      " [ 4  5  6  7]\n",
      " [ 8  9 10 11]\n",
      " [12 13 14 15]]\n",
      "\n",
      "Second array:\n",
      " [[16 17 18 19]\n",
      " [20 21 22 23]\n",
      " [24 25 26 27]\n",
      " [28 29 30 31]]\n",
      "\n",
      "Elementwise Addition:\n",
      " [[16 18 20 22]\n",
      " [24 26 28 30]\n",
      " [32 34 36 38]\n",
      " [40 42 44 46]]\n",
      "\n",
      "Elementwise Subtractoin:\n",
      " [[-16 -16 -16 -16]\n",
      " [-16 -16 -16 -16]\n",
      " [-16 -16 -16 -16]\n",
      " [-16 -16 -16 -16]]\n",
      "\n",
      "Elementwise Multiplication:\n",
      " [[  0  17  36  57]\n",
      " [ 80 105 132 161]\n",
      " [192 225 260 297]\n",
      " [336 377 420 465]]\n",
      "\n",
      "Elementwise Division:\n",
      " [[0.         0.05882353 0.11111111 0.15789474]\n",
      " [0.2        0.23809524 0.27272727 0.30434783]\n",
      " [0.33333333 0.36       0.38461538 0.40740741]\n",
      " [0.42857143 0.44827586 0.46666667 0.48387097]]\n",
      "\n",
      "Multiplied matrix:\n",
      " [[ 152  158  164  170]\n",
      " [ 504  526  548  570]\n",
      " [ 856  894  932  970]\n",
      " [1208 1262 1316 1370]]\n"
     ]
    }
   ],
   "source": [
    "#Arithmetic operators on arrays are apply elementwise\n",
    "first_array=np.arange(4*4).reshape((4,4)) #Reshape modify the shape of array we will see this later in detail\n",
    "print('First array:\\n',first_array)\n",
    "second_array=np.arange(4*4,4*4+4*4).reshape((4,4))\n",
    "print('\\nSecond array:\\n',second_array)\n",
    "#Addition\n",
    "print('\\nElementwise Addition:\\n',first_array+second_array)\n",
    "#Subtraction\n",
    "print('\\nElementwise Subtractoin:\\n',first_array-second_array)\n",
    "#Multiplication\n",
    "print('\\nElementwise Multiplication:\\n',first_array*second_array)\n",
    "#Division\n",
    "print('\\nElementwise Division:\\n',first_array/second_array)\n",
    "\n",
    "#Matrix multiplication\n",
    "print('\\nMultiplied matrix:\\n',first_array@second_array)#For this matrix need to be compatible for multiplication"
   ]
  },
  {
   "cell_type": "markdown",
   "metadata": {},
   "source": [
    "### Indexing"
   ]
  },
  {
   "cell_type": "code",
   "execution_count": 18,
   "metadata": {},
   "outputs": [
    {
     "name": "stdout",
     "output_type": "stream",
     "text": [
      "[0.42000881 0.22816928 0.78655212 0.98435557 0.55760378]\n",
      "First item: 0.4200088079607067\n",
      "Third item: 0.786552117205408\n",
      "Last item: 0.5576037778125758\n",
      "\n",
      "Loop:\n",
      "0.4200088079607067\n",
      "0.22816927940716636\n",
      "0.786552117205408\n",
      "0.9843555669916589\n",
      "0.5576037778125758\n",
      "\n",
      "First three items: [0.42000881 0.22816928 0.78655212]\n"
     ]
    }
   ],
   "source": [
    "#Here you can index in similary way as in list\n",
    "my_numpy_array=np.random.rand(5)\n",
    "print(my_numpy_array)\n",
    "print('First item:',my_numpy_array[0])\n",
    "print('Third item:',my_numpy_array[2])\n",
    "print('Last item:',my_numpy_array[-1])\n",
    "#in 1D array you and also slice and iterage in same as as in list\n",
    "print('\\nLoop:')\n",
    "for i in my_numpy_array:\n",
    "    print(i)\n",
    "print('\\nFirst three items:',my_numpy_array[0:3])"
   ]
  },
  {
   "cell_type": "code",
   "execution_count": 19,
   "metadata": {},
   "outputs": [
    {
     "name": "stdout",
     "output_type": "stream",
     "text": [
      "[[0 1 2]\n",
      " [3 4 5]\n",
      " [6 7 8]]\n",
      "\n",
      "Index [2,0]: 6\n",
      "Index [2,2]: 8\n"
     ]
    }
   ],
   "source": [
    "# In Multidimensional arrays indices for each dimension is given\n",
    "# For each dimension index range form 0 to size_of_dimension-1\n",
    "my_numpy_array=np.arange(3*3).reshape((3,3))\n",
    "print(my_numpy_array)\n",
    "print('\\nIndex [2,0]:',my_numpy_array[2,0])\n",
    "print('Index [2,2]:',my_numpy_array[2,2])\n",
    "#you can think indexing [a,b,c...] as ath item of first dimension which returns another array of dimension n-1\n",
    "#in that array bth item of first dimension and so no"
   ]
  },
  {
   "cell_type": "markdown",
   "metadata": {},
   "source": [
    "### Slicing"
   ]
  },
  {
   "cell_type": "code",
   "execution_count": 20,
   "metadata": {},
   "outputs": [
    {
     "name": "stdout",
     "output_type": "stream",
     "text": [
      "[[0 1 2]\n",
      " [3 4 5]\n",
      " [6 7 8]]\n",
      "\n",
      "Slicing index [1,:]:\n",
      " [3 4 5]\n",
      "\n",
      "Slicing index [:,2]:\n",
      " [2 5 8]\n"
     ]
    }
   ],
   "source": [
    "# you can slice ndarray in similary as in list\n",
    "my_numpy_array=np.arange(3*3).reshape((3,3))\n",
    "print(my_numpy_array)\n",
    "# : represents all \n",
    "print('\\nSlicing index [1,:]:\\n',my_numpy_array[1,:])\n",
    "print('\\nSlicing index [:,2]:\\n',my_numpy_array[:,2])\n",
    "#This can be generalized to higher dimension\n",
    "#One very important thing to note here is that this type of slicing only gives you the view of array not a new copy\n",
    "#So changes made in this obtained array by slicing will be reflected in original array"
   ]
  },
  {
   "cell_type": "markdown",
   "metadata": {},
   "source": [
    "### Shape Manipulation"
   ]
  },
  {
   "cell_type": "code",
   "execution_count": 21,
   "metadata": {},
   "outputs": [
    {
     "name": "stdout",
     "output_type": "stream",
     "text": [
      "(25,)\n",
      "(5, 5)\n",
      "(1, 25)\n"
     ]
    }
   ],
   "source": [
    "#We can manuplate the shape of array using reshape() method this does not change the item and thier number\n",
    "#New given shape must have same number of items as in original array\n",
    "my_numpy_array=np.arange(5*5)\n",
    "print(my_numpy_array.shape)\n",
    "#Reshaping into (5,5)\n",
    "my_numpy_array=my_numpy_array.reshape((5,5))\n",
    "#.reshape((4,4)) is not allowed as it can only accomodate 16 items but original array has 25 items\n",
    "print(my_numpy_array.shape)\n",
    "#Reshaping into((-1,25)).Here size of -1 is infered automatically\n",
    "my_numpy_array=my_numpy_array.reshape((-1,25))\n",
    "print(my_numpy_array.shape)"
   ]
  },
  {
   "cell_type": "markdown",
   "metadata": {},
   "source": [
    "### Concatenation"
   ]
  },
  {
   "cell_type": "code",
   "execution_count": 22,
   "metadata": {},
   "outputs": [
    {
     "name": "stdout",
     "output_type": "stream",
     "text": [
      "[[-0.01829333 -0.88038229 -1.1576798 ]\n",
      " [ 1.01126599 -0.31891456  1.34637763]\n",
      " [ 0.28154868 -0.40821971 -0.44949206]\n",
      " [-1.68022231 -1.98976211 -0.52008002]\n",
      " [ 0.75089959 -1.18605639 -0.58172088]\n",
      " [ 0.54867215  0.60287491 -1.07778287]]\n"
     ]
    }
   ],
   "source": [
    "# you can concatenate two or more arrays using np.concatenate \n",
    "first_array=np.random.randn(3,3)\n",
    "second_array=np.random.randn(3,3)                             #First parameter is tuple containing arrays to be \n",
    "final_array=np.concatenate((first_array,second_array),axis=0) #concatenated and second parameter is axis alongwhich\n",
    "print(final_array)                                            #arrays are concatenated"
   ]
  },
  {
   "cell_type": "markdown",
   "metadata": {},
   "source": [
    "### Deep Copy"
   ]
  },
  {
   "cell_type": "code",
   "execution_count": 23,
   "metadata": {},
   "outputs": [
    {
     "name": "stdout",
     "output_type": "stream",
     "text": [
      "Both refers to same object.\n",
      "\n",
      "[[50  1  2  3]\n",
      " [ 4  5  6  7]\n",
      " [ 8  9 10 11]\n",
      " [12 13 14 15]]\n",
      "\n",
      "\n",
      "[[50  1  2  3]\n",
      " [ 4  5  6  7]\n",
      " [ 8  9 10 11]\n",
      " [12 13 14 15]]\n"
     ]
    }
   ],
   "source": [
    "first_array=np.arange(4*4).reshape((4,4))\n",
    "second_array=first_array\n",
    "# a is b check if a and b refers to same object.\n",
    "if second_array is first_array: \n",
    "    print(\"Both refers to same object.\\n\")\n",
    "second_array[0,0]=50\n",
    "print(second_array)\n",
    "print('\\n')\n",
    "print(first_array)\n",
    "#Change is reflected in both array as they point to the same object\n",
    "#This is also true for basic indexing\n",
    "#So how to make copy of array?"
   ]
  },
  {
   "cell_type": "code",
   "execution_count": 24,
   "metadata": {},
   "outputs": [
    {
     "name": "stdout",
     "output_type": "stream",
     "text": [
      "They refers to different objects.\n",
      "\n",
      "[[50  1  2  3]\n",
      " [ 4  5  6  7]\n",
      " [ 8  9 10 11]\n",
      " [12 13 14 15]]\n",
      "\n",
      "\n",
      "[[ 0  1  2  3]\n",
      " [ 4  5  6  7]\n",
      " [ 8  9 10 11]\n",
      " [12 13 14 15]]\n"
     ]
    }
   ],
   "source": [
    "#np.copy() or ndarray.copy() makes deep copy\n",
    "first_array=np.arange(4*4).reshape((4,4))\n",
    "second_array=first_array.copy()\n",
    "if second_array is not first_array:\n",
    "    print(\"They refers to different objects.\\n\")\n",
    "second_array[0,0]=50\n",
    "print(second_array)\n",
    "print('\\n')\n",
    "print(first_array)\n",
    "#Notice change made in second_array is not reflected in first_array"
   ]
  },
  {
   "cell_type": "code",
   "execution_count": 25,
   "metadata": {},
   "outputs": [
    {
     "data": {
      "text/plain": [
       "array([50, 11, 12, 13, 14, 15])"
      ]
     },
     "execution_count": 25,
     "metadata": {},
     "output_type": "execute_result"
    }
   ],
   "source": [
    "second_array[second_array>10]"
   ]
  },
  {
   "cell_type": "markdown",
   "metadata": {},
   "source": [
    "### Broadcasting\n",
    "The term broadcasting describes how numpy treats arrays with different shapes during arithmetic operations. Subject to certain constraints, the smaller array is “broadcast” across the larger array so that they have compatible shapes.\n",
    "\n",
    "The first rule of broadcasting is that if all input arrays do not have the same number of dimensions, a “1” will be repeatedly prepended to the shapes of the smaller arrays until all the arrays have the same number of dimensions.\n",
    "\n",
    "\n",
    "The second rule of broadcasting ensures that arrays with a size of 1 along a particular dimension act as if they had the size of the array with the largest shape along that dimension. The value of the array element is assumed to be the same along that dimension for the “broadcast” array.\n",
    "\n",
    "After application of the broadcasting rules, the sizes of all arrays must match."
   ]
  },
  {
   "cell_type": "code",
   "execution_count": 26,
   "metadata": {},
   "outputs": [
    {
     "name": "stdout",
     "output_type": "stream",
     "text": [
      "[3 4 5]\n"
     ]
    }
   ],
   "source": [
    "#simples example of broadcasting is scaler arthmatic\n",
    "my_numpy_array=np.array([1,2,3])\n",
    "my_numpy_array=my_numpy_array+[2] # or simply +2\n",
    "print(my_numpy_array)"
   ]
  },
  {
   "cell_type": "code",
   "execution_count": 27,
   "metadata": {},
   "outputs": [
    {
     "name": "stdout",
     "output_type": "stream",
     "text": [
      "\n",
      "first_array:\n",
      " [[ 0  1  2  3]\n",
      " [ 4  5  6  7]\n",
      " [ 8  9 10 11]\n",
      " [12 13 14 15]]\n",
      "\n",
      "second_array:\n",
      " [1, 2, 3, 4]\n",
      "\n",
      "final_array:\n",
      " [[ 0  2  6 12]\n",
      " [ 4 10 18 28]\n",
      " [ 8 18 30 44]\n",
      " [12 26 42 60]]\n"
     ]
    }
   ],
   "source": [
    "#Elementwies multiplication of matrix by vector\n",
    "first_array=np.arange(4*4).reshape((4,4))\n",
    "second_array=[1,2,3,4]\n",
    "final_array=first_array*second_array\n",
    "print('\\nfirst_array:\\n',first_array)\n",
    "print('\\nsecond_array:\\n',second_array)\n",
    "print('\\nfinal_array:\\n',final_array)"
   ]
  },
  {
   "cell_type": "markdown",
   "metadata": {},
   "source": [
    "### Advance Indexing\n",
    "In addition to indexing by integers and slices,arrays can be indexed by arrays of integers and arrays of booleans. The returned array is copy of original unlike basic indexing it doesnot point original array."
   ]
  },
  {
   "cell_type": "code",
   "execution_count": 28,
   "metadata": {},
   "outputs": [
    {
     "name": "stdout",
     "output_type": "stream",
     "text": [
      "first_array:\n",
      " [ 0  1  2  3  4  5  6  7  8  9 10 11 12 13 14 15]\n",
      "\n",
      "final_array:\n",
      " [1 1 5 6 8]\n"
     ]
    }
   ],
   "source": [
    "#Indexing with Arrays of Indices\n",
    "first_array=np.arange(4*4)\n",
    "indexing_array=np.array([1,1,5,6,8])\n",
    "final_array=first_array[indexing_array]\n",
    "print('first_array:\\n',first_array)\n",
    "print('\\nfinal_array:\\n',final_array)"
   ]
  },
  {
   "cell_type": "code",
   "execution_count": 29,
   "metadata": {},
   "outputs": [
    {
     "name": "stdout",
     "output_type": "stream",
     "text": [
      "first_array:\n",
      " [[ 0  1  2  3]\n",
      " [ 4  5  6  7]\n",
      " [ 8  9 10 11]\n",
      " [12 13 14 15]]\n",
      "\n",
      "final_array:\n",
      " [[ 4  5  6  7]\n",
      " [12 13 14 15]\n",
      " [ 4  5  6  7]]\n"
     ]
    }
   ],
   "source": [
    "#When the array a is multidimensional, a single array of indices refers to the first dimension of array\n",
    "first_array=np.arange(4*4).reshape((4,4))\n",
    "indexing_array=np.array([1,3,1])\n",
    "final_array=first_array[indexing_array]\n",
    "print('first_array:\\n',first_array)\n",
    "print('\\nfinal_array:\\n',final_array)"
   ]
  },
  {
   "cell_type": "code",
   "execution_count": 30,
   "metadata": {},
   "outputs": [
    {
     "name": "stdout",
     "output_type": "stream",
     "text": [
      "first_array:\n",
      " [[ 0  1  2  3]\n",
      " [ 4  5  6  7]\n",
      " [ 8  9 10 11]\n",
      " [12 13 14 15]]\n",
      "\n",
      "final_array:\n",
      " [ 5 12  7]\n"
     ]
    }
   ],
   "source": [
    "#We can also give indexes for more than one dimension. The arrays of indices for each dimension must have the same shape.\n",
    "first_array=np.arange(4*4).reshape((4,4))\n",
    "i=np.array([1,3,1]) # i and j must have same shape\n",
    "j=np.array([1,0,3])\n",
    "final_array=first_array[i,j]\n",
    "print('first_array:\\n',first_array)\n",
    "print('\\nfinal_array:\\n',final_array)"
   ]
  },
  {
   "cell_type": "code",
   "execution_count": 31,
   "metadata": {},
   "outputs": [
    {
     "name": "stdout",
     "output_type": "stream",
     "text": [
      "first_array:\n",
      " [[ 0  1  2  3]\n",
      " [ 4  5  6  7]\n",
      " [ 8  9 10 11]\n",
      " [12 13 14 15]]\n",
      "\n",
      "boolean_array:\n",
      " [[False False False False]\n",
      " [False False False False]\n",
      " [False False False  True]\n",
      " [ True  True  True  True]]\n",
      "\n",
      "final_array:\n",
      " [11 12 13 14 15]\n"
     ]
    }
   ],
   "source": [
    "#Indexing with Boolean Arrays\n",
    "#Collecting all items in array which is greater than 10\n",
    "first_array=np.arange(4*4).reshape((4,4))\n",
    "boolean_array=first_array>10\n",
    "final_array=first_array[boolean_array]\n",
    "print('first_array:\\n',first_array)\n",
    "print('\\nboolean_array:\\n',boolean_array)\n",
    "print('\\nfinal_array:\\n',final_array)"
   ]
  }
 ],
 "metadata": {
  "kernelspec": {
   "display_name": "Python 3",
   "language": "python",
   "name": "python3"
  },
  "language_info": {
   "codemirror_mode": {
    "name": "ipython",
    "version": 3
   },
   "file_extension": ".py",
   "mimetype": "text/x-python",
   "name": "python",
   "nbconvert_exporter": "python",
   "pygments_lexer": "ipython3",
   "version": "3.6.5"
  }
 },
 "nbformat": 4,
 "nbformat_minor": 2
}
